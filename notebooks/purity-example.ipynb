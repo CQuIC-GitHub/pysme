{
 "cells": [
  {
   "cell_type": "markdown",
   "metadata": {},
   "source": [
    "# Purity and excitation probability comparison"
   ]
  },
  {
   "cell_type": "markdown",
   "metadata": {},
   "source": [
    "We will use a square wavepacket and compare markovian and wavepacket evolution.\n",
    "\n",
    "Note:\n",
    "\n",
    "3dB of squeezing is $r \\approx 0.31$\n",
    "\n",
    "\n",
    "4.5dB of squeezing is $r \\approx 0.51$\n",
    "\n"
   ]
  },
  {
   "cell_type": "code",
   "execution_count": 2,
   "metadata": {},
   "outputs": [],
   "source": [
    "from functools import partial\n",
    "import pickle\n",
    "import numpy as np\n",
    "from scipy.integrate import quad\n",
    "\n",
    "from tqdm import tqdm_notebook\n",
    "\n",
    "import pysme.hierarchy as hier\n",
    "import pysme.integrate as integ\n",
    "\n",
    "import matplotlib.pyplot as plt\n",
    "import matplotlib\n",
    "# #from quantum_utilities.qubits import Id, sigm, sigz, zero"
   ]
  },
  {
   "cell_type": "code",
   "execution_count": 3,
   "metadata": {},
   "outputs": [],
   "source": [
    "# Define Lowering operator and Sigma Z\n",
    "\n",
    "Id = np.eye(2, dtype=complex)\n",
    "\n",
    "zero = np.zeros((2,2), dtype=complex)\n",
    "\n",
    "sigz = np.array([[1, 0], [0, -1]], dtype=complex)\n",
    "\n",
    "sigx = np.array([[0, 1], [1, 0]], dtype=complex)\n",
    "\n",
    "sigy = np.array([[0, -1j], [1j, 0]], dtype=complex)\n",
    "\n",
    "sigm = np.array([[0, 0], [1, 0]], dtype=complex)"
   ]
  },
  {
   "cell_type": "code",
   "execution_count": 4,
   "metadata": {},
   "outputs": [],
   "source": [
    "def rect(x, a, b):\n",
    "    return np.where(x < a, 0, np.where(x < b, 1, 0))\n",
    "\n",
    "def xi_rect(t, a, b):\n",
    "    return rect(t, a, b)/np.sqrt(b - a)\n",
    "\n",
    "def xi_gau(t, Omega, ta):\n",
    "    return np.power(Omega**2/(2*np.pi), 1/4) * np.exp(-Omega**2*(t - ta)**2/4)"
   ]
  },
  {
   "cell_type": "markdown",
   "metadata": {},
   "source": [
    "# Match inital decay"
   ]
  },
  {
   "cell_type": "code",
   "execution_count": 38,
   "metadata": {},
   "outputs": [],
   "source": [
    "# rs = np.arcsinh(np.sqrt(np.arange(5)))\n",
    "# print('rs', rs)\n",
    "# print('exp(rs)', np.exp(rs))\n",
    "# print('sinh(rs)^2', np.sinh(rs)**2)\n",
    "\n",
    "\n",
    "n_max = 22\n",
    "\n",
    "Omega = 0 #1.21\n",
    "\n",
    "# 3dB of squeezing  r \\approx =0.31\n",
    "3 / (20* np.log10(np.e))\n",
    "\n",
    "# 4.5dB of squeezing r \\approx 0.51\n",
    "r = 4.5/ (20* np.log10(np.e))\n",
    "\n",
    "\n",
    "\n",
    "r_val_wp = r \n",
    "\n",
    "#r_val_bb = 0.2335848289126526\n",
    "\n",
    "mu_val = 0\n",
    "\n",
    "gam = 1\n",
    "\n",
    "xi_len = 4\n",
    "\n",
    "S = Id\n",
    "L = np.sqrt(gam) * sigm\n",
    "H = zero\n",
    "\n",
    "rho0 = np.array([[1, 0], [0, 0]], dtype=complex) # excited state\n",
    "\n",
    "xi = xi_rect\n",
    "\n",
    "\n",
    "times = np.linspace(0, xi_len + 2, num=xi_len*30 + 60)"
   ]
  },
  {
   "cell_type": "markdown",
   "metadata": {},
   "source": [
    "### Wavepacket"
   ]
  },
  {
   "cell_type": "code",
   "execution_count": 39,
   "metadata": {
    "scrolled": true
   },
   "outputs": [],
   "source": [
    "factory = hier.HierarchyIntegratorFactory(2, n_max)\n",
    "           \n",
    "integrators = factory.make_uncond_integrator(partial(xi, a=0, b=xi_len), S, L, H, r=r_val_wp, mu=mu_val)\n",
    "\n",
    "solns = integrators.integrate(rho0, times)"
   ]
  },
  {
   "cell_type": "code",
   "execution_count": 40,
   "metadata": {},
   "outputs": [],
   "source": [
    "def rho_from_ket(ket):\n",
    "    return np.outer(ket, ket.conj())\n",
    "\n",
    "def vac_rho(n):\n",
    "    ket = np.zeros(n + 1, dtype=np.complex)\n",
    "    ket[0] = 1\n",
    "    return rho_from_ket(ket)"
   ]
  },
  {
   "cell_type": "markdown",
   "metadata": {},
   "source": [
    "### Vacuum evolution"
   ]
  },
  {
   "cell_type": "code",
   "execution_count": 41,
   "metadata": {},
   "outputs": [],
   "source": [
    "vac_integrator_object = integ.UncondLindbladIntegrator([L],H)\n",
    "vac_soln = vac_integrator_object.integrate(rho0, times)"
   ]
  },
  {
   "cell_type": "markdown",
   "metadata": {},
   "source": [
    "### Markovian Squeezed evolution\n",
    "\n",
    "here we numerically optimize over the squeeze parameter to match the inital decay of the wavepacket solution"
   ]
  },
  {
   "cell_type": "code",
   "execution_count": 17,
   "metadata": {},
   "outputs": [],
   "source": [
    "# Wavepacket shape\n",
    "# TODO: make wavepacket return to vac soln after x>b: f1-> 1 & f2 -> 0\n",
    "def f1(x, a, b, mu, r):\n",
    "    return np.cosh(r)*np.where(x < a, 0, np.where(x < b, 1, 0))\n",
    "\n",
    "def f2(x, a, b, mu, r):\n",
    "    return np.exp(2j*mu)* np.sinh(r)*np.where(x < a, 0, np.where(x < b, 1, 0))\n",
    "\n",
    "\n",
    "#fc = partial(f1, a=0, b=xi_len, mu=mu_val, r=r_val_bb)\n",
    "#fs = partial(f2, a=0, b=xi_len, mu=mu_val, r=r_val_bb)\n",
    "\n",
    "#L_list = [[(L, fc), (np.conj(np.transpose(L)), fs)]]\n",
    "#H_list = [H]\n",
    "\n",
    "#broadband_integrator_object = integ.UncondTimeDepLindInt(L_list, H_list)\n",
    "#markov_soln = broadband_integrator_object.integrate(rho0, times)"
   ]
  },
  {
   "cell_type": "markdown",
   "metadata": {},
   "source": [
    "find squeezing amount to match the decay curve over the first 1 unit of time of the wavepacket"
   ]
  },
  {
   "cell_type": "code",
   "execution_count": 42,
   "metadata": {},
   "outputs": [
    {
     "name": "stdout",
     "output_type": "stream",
     "text": [
      "the index of t=0.0 is  0\n",
      "the index of t=1.01 is  30\n"
     ]
    }
   ],
   "source": [
    "stz = 0.0\n",
    "stp = 1.01\n",
    "print('the index of t='+str(stz)+' is ', np.argmin((times-stz)**2))\n",
    "print('the index of t='+str(stp)+' is ', np.argmin((times-stp)**2))\n",
    "\n",
    "startz = np.argmin((times-stz)**2)\n",
    "endz = np.argmin((times-stp)**2)\n",
    "tp = times[startz:endz]\n",
    "x_wp = (solns.get_expectations(sigx, vac_rho(n_max)) + 1)/2\n",
    "z_wp = (solns.get_expectations(sigz, vac_rho(n_max)) + 1)/2\n",
    "xwp = x_wp[startz:endz]\n",
    "zwp = z_wp[startz:endz]\n",
    "\n",
    "\n",
    "def func(r_val_bb, *params):\n",
    "    times, L, H, xi_len, mu_val, rho0 , xwp, zwp, startz, endz = params\n",
    "    fc = partial(f1, a=0, b=xi_len, mu=mu_val, r=r_val_bb)\n",
    "    fs = partial(f2, a=0, b=xi_len, mu=mu_val, r=r_val_bb)\n",
    "    L_list = [[(L, fc), (np.conj(np.transpose(L)), fs)]]\n",
    "    H_list = [H]\n",
    "    broadband_integrator_object = integ.UncondTimeDepLindInt(L_list, H_list)\n",
    "    markov_soln = broadband_integrator_object.integrate(rho0, times)\n",
    "    x_m = (markov_soln.get_expectations(sigx) + 1)/2\n",
    "    z_m = (markov_soln.get_expectations(sigz) + 1)/2\n",
    "    xm = x_m[startz:endz]\n",
    "    zm = z_m[startz:endz]\n",
    "    return np.sum( (zwp-zm)**2)"
   ]
  },
  {
   "cell_type": "code",
   "execution_count": 43,
   "metadata": {},
   "outputs": [
    {
     "name": "stdout",
     "output_type": "stream",
     "text": [
      "     fun: 0.0007124447507574774\n",
      "    nfev: 18\n",
      "     nit: 14\n",
      " success: True\n",
      "       x: 0.2335848289126526\n"
     ]
    }
   ],
   "source": [
    "from scipy import optimize\n",
    "paramz = (times, L, H, xi_len, mu_val, rho0 , xwp, zwp, startz, endz)\n",
    "rangez = (0.0051,0.43)\n",
    "\n",
    "\n",
    "soln = optimize.minimize_scalar(func, bracket=None, bounds=rangez, args=paramz)\n",
    "\n",
    "print(soln)\n",
    "\n",
    "r_val_bb = soln.x"
   ]
  },
  {
   "cell_type": "markdown",
   "metadata": {},
   "source": [
    "simulate markovian squeezed evolution with  numercially found optimal amount of squeezing"
   ]
  },
  {
   "cell_type": "code",
   "execution_count": 44,
   "metadata": {},
   "outputs": [],
   "source": [
    "fc = partial(f1, a=0, b=xi_len, mu=mu_val, r=r_val_bb)\n",
    "fs = partial(f2, a=0, b=xi_len, mu=mu_val, r=r_val_bb)\n",
    "\n",
    "L_list = [[(L, fc), (np.conj(np.transpose(L)), fs)]]\n",
    "\n",
    "H_list = [H]\n",
    "\n",
    "broadband_integrator_object = integ.UncondTimeDepLindInt(L_list, H_list)\n",
    "markov_soln = broadband_integrator_object.integrate(rho0, times)"
   ]
  },
  {
   "cell_type": "code",
   "execution_count": 45,
   "metadata": {},
   "outputs": [
    {
     "name": "stdout",
     "output_type": "stream",
     "text": [
      "0.055561452274569156 (-0.2421745801140747-0j)\n"
     ]
    }
   ],
   "source": [
    "#M and N params\n",
    "M = - np.exp(2j*mu_val)* np.sinh(r_val_bb) * np.cosh(r_val_bb)\n",
    "N = np.sinh(r_val_bb)**2\n",
    "\n",
    "print(N,M)"
   ]
  },
  {
   "cell_type": "code",
   "execution_count": 46,
   "metadata": {},
   "outputs": [
    {
     "data": {
      "text/plain": [
       "1.1111229045491382"
      ]
     },
     "execution_count": 46,
     "metadata": {},
     "output_type": "execute_result"
    }
   ],
   "source": [
    "# expected modification of decay rate relative to vac\n",
    "2*N+1\n"
   ]
  },
  {
   "cell_type": "code",
   "execution_count": 50,
   "metadata": {},
   "outputs": [
    {
     "data": {
      "text/plain": [
       "<matplotlib.legend.Legend at 0x7fa5e0720fd0>"
      ]
     },
     "execution_count": 50,
     "metadata": {},
     "output_type": "execute_result"
    },
    {
     "data": {
      "image/png": "[encoded data removed]",
      "text/plain": [
       "<Figure size 432x576 with 3 Axes>"
      ]
     },
     "metadata": {
      "needs_background": "light"
     },
     "output_type": "display_data"
    }
   ],
   "source": [
    "gs = matplotlib.gridspec.GridSpec(2, 1)\n",
    "fig = plt.figure(figsize=[6, 8])\n",
    "\n",
    "gs = fig.add_gridspec(ncols=2, nrows=2,wspace=0.5)\n",
    "\n",
    "\n",
    "f3_ax0 = fig.add_subplot(gs[0, :-1])\n",
    "f3_ax1 = fig.add_subplot(gs[0, 1])\n",
    "f3_ax2 = fig.add_subplot(gs[1, :])\n",
    "\n",
    "\n",
    "rwp_plot = np.round(r_val_wp,3)\n",
    "rbb_plot = np.round(r_val_bb,3)\n",
    "\n",
    "f3_ax0.plot(times, xi_rect(times,a=0, b=xi_len),label='WP',linestyle='--',color='k')\n",
    "f3_ax0.plot(times, (solns.get_expectations(sigz, vac_rho(n_max)) + 1)/2,label='Z wp',linestyle='--',color='g')\n",
    "f3_ax0.plot(times, (markov_soln.get_expectations(sigz) + 1)/2, label='Z markov',linestyle='-',color='g')\n",
    "f3_ax0.plot(times, (vac_soln.get_expectations(sigz) + 1)/2, label='Z vac',linestyle='-',color='c')\n",
    "f3_ax0.set_yscale('log')\n",
    "f3_ax0.set_xlim(0.0, 4.025)\n",
    "f3_ax0.set_ylim(1e-2, 1.05) \n",
    "f3_ax0.set_ylabel(r'$\\langle Z \\rangle $',rotation=0,labelpad=10) \n",
    "f3_ax0.set_xlabel(r'$\\gamma\\, t $')\n",
    "\n",
    "\n",
    "\n",
    "f3_ax1.plot(times, xi_rect(times,a=0, b=xi_len),label='WP',linestyle='--',color='k')\n",
    "f3_ax1.plot(times, (solns.get_expectations(sigz, vac_rho(n_max)) + 1)/2,label='Z wp',linestyle='--',color='g')\n",
    "f3_ax1.plot(times, (markov_soln.get_expectations(sigz) + 1)/2, label='Z markov',linestyle='-',color='g')\n",
    "f3_ax1.plot(times, (vac_soln.get_expectations(sigz) + 1)/2, label='Z vac',linestyle='-',color='c')\n",
    "f3_ax1.set_yscale('log')\n",
    "f3_ax1.set_xlim(0.2, 0.4)\n",
    "f3_ax1.set_ylim(6.75e-1, 8e-1) \n",
    "f3_ax1.set_xlabel(r'$\\gamma\\, t $')\n",
    "\n",
    "\n",
    "\n",
    "f3_ax2.plot(times, solns.get_purities(vac_rho(n_max)),label='WP r =' + str(rwp_plot),linestyle='--',color='g')\n",
    "f3_ax2.plot(times, markov_soln.get_purities(),label='markov r = ' + str(rbb_plot), linestyle='-',color='g')\n",
    "f3_ax2.plot(times, vac_soln.get_purities(),label='vac',linestyle='-',color='c')\n",
    "#f3_ax2.set_yscale('log')\n",
    "f3_ax2.set_xlim(0.0, 4.025)\n",
    "f3_ax2.set_ylim(0.497, 1.01) \n",
    "f3_ax2.set_xlabel(r'$\\gamma\\, t $')\n",
    "f3_ax2.set_ylabel(r'Purity',labelpad=5)\n",
    "f3_ax2.legend()\n",
    "\n"
   ]
  },
  {
   "cell_type": "markdown",
   "metadata": {},
   "source": [
    "# Match steady state exitation probablity"
   ]
  },
  {
   "cell_type": "code",
   "execution_count": 51,
   "metadata": {},
   "outputs": [],
   "source": [
    "# rs = np.arcsinh(np.sqrt(np.arange(5)))\n",
    "# print('rs', rs)\n",
    "# print('exp(rs)', np.exp(rs))\n",
    "# print('sinh(rs)^2', np.sinh(rs)**2)\n",
    "\n",
    "\n",
    "n_max = 22\n",
    "\n",
    "Omega = 0 #1.21\n",
    "\n",
    "# 3dB of squeezing  r \\approx =0.31\n",
    "3 / (20* np.log10(np.e))\n",
    "\n",
    "# 4.5dB of squeezing r \\approx 0.51\n",
    "r = 4.5/ (20* np.log10(np.e))\n",
    "\n",
    "\n",
    "\n",
    "r_val_wp = r \n",
    "\n",
    "r_val_bb = 0.2335848289126526\n",
    "\n",
    "mu_val = 0\n",
    "\n",
    "gam = 1\n",
    "\n",
    "xi_len = 9\n",
    "\n",
    "\n",
    "S = Id\n",
    "L = np.sqrt(gam) * sigm\n",
    "H = zero\n",
    "\n",
    "\n",
    "rho0 = np.array([[1, 0], [0, 0]], dtype=complex) # excited state\n",
    "#\n",
    "\n",
    "xi = xi_rect\n",
    "\n",
    "\n",
    "\n",
    "times = np.linspace(0, xi_len + 2, num=xi_len*30 + 60)\n",
    "\n"
   ]
  },
  {
   "cell_type": "code",
   "execution_count": 52,
   "metadata": {},
   "outputs": [],
   "source": [
    "# wavepacket \n",
    "\n",
    "factory = hier.HierarchyIntegratorFactory(2, n_max)\n",
    "           \n",
    "integrators = factory.make_uncond_integrator(partial(xi, a=0, b=xi_len), S, L, H, r=r_val_wp, mu=mu_val)\n",
    "\n",
    "solns = integrators.integrate(rho0, times)"
   ]
  },
  {
   "cell_type": "code",
   "execution_count": 53,
   "metadata": {},
   "outputs": [],
   "source": [
    "# vaccum\n",
    "vac_integrator_object = integ.UncondLindbladIntegrator([L],H)\n",
    "vac_soln = vac_integrator_object.integrate(rho0, times)"
   ]
  },
  {
   "cell_type": "code",
   "execution_count": null,
   "metadata": {},
   "outputs": [],
   "source": []
  },
  {
   "cell_type": "code",
   "execution_count": 70,
   "metadata": {},
   "outputs": [
    {
     "name": "stdout",
     "output_type": "stream",
     "text": [
      "the index of t=5.0 is  150\n",
      "the index of t=9.0 is  269\n"
     ]
    }
   ],
   "source": [
    "stz = 5.0\n",
    "stp = 9.0\n",
    "print('the index of t='+str(stz)+' is ', np.argmin((times-stz)**2))\n",
    "print('the index of t='+str(stp)+' is ', np.argmin((times-stp)**2))\n",
    "\n",
    "startz = np.argmin((times-stz)**2)\n",
    "endz = np.argmin((times-stp)**2)\n",
    "tp = times[startz:endz]\n",
    "x_wp = (solns.get_expectations(sigx, vac_rho(n_max)) + 1)/2\n",
    "z_wp = (solns.get_expectations(sigz, vac_rho(n_max)) + 1)/2\n",
    "xwp = x_wp[startz:endz]\n",
    "zwp = z_wp[startz:endz]\n",
    "\n",
    "\n",
    "def func(r_val_bb, *params):\n",
    "    times, L, H, xi_len, mu_val, rho0 , xwp, zwp, startz, endz = params\n",
    "    fc = partial(f1, a=0, b=xi_len, mu=mu_val, r=r_val_bb)\n",
    "    fs = partial(f2, a=0, b=xi_len, mu=mu_val, r=r_val_bb)\n",
    "    L_list = [[(L, fc), (np.conj(np.transpose(L)), fs)]]\n",
    "    H_list = [H]\n",
    "    broadband_integrator_object = integ.UncondTimeDepLindInt(L_list, H_list)\n",
    "    markov_soln = broadband_integrator_object.integrate(rho0, times)\n",
    "    x_m = (markov_soln.get_expectations(sigx) + 1)/2\n",
    "    z_m = (markov_soln.get_expectations(sigz) + 1)/2\n",
    "    xm = x_m[startz:endz]\n",
    "    zm = z_m[startz:endz]\n",
    "    return np.sum( (zwp-zm)**2)"
   ]
  },
  {
   "cell_type": "code",
   "execution_count": 71,
   "metadata": {},
   "outputs": [
    {
     "name": "stdout",
     "output_type": "stream",
     "text": [
      "     fun: 0.002163388476251895\n",
      "    nfev: 18\n",
      "     nit: 14\n",
      " success: True\n",
      "       x: 0.2249016486314189\n"
     ]
    }
   ],
   "source": [
    "from scipy import optimize\n",
    "paramz = (times, L, H, xi_len, mu_val, rho0 , xwp, zwp, startz, endz)\n",
    "rangez = (0.0051,0.43)\n",
    "\n",
    "\n",
    "soln = optimize.minimize_scalar(func, bracket=None, bounds=rangez, args=paramz)\n",
    "\n",
    "print(soln)\n",
    "\n",
    "r_val_bb = soln.x"
   ]
  },
  {
   "cell_type": "code",
   "execution_count": 72,
   "metadata": {},
   "outputs": [],
   "source": [
    "fc = partial(f1, a=0, b=xi_len, mu=mu_val, r=r_val_bb)\n",
    "fs = partial(f2, a=0, b=xi_len, mu=mu_val, r=r_val_bb)\n",
    "\n",
    "L_list = [[(L, fc), (np.conj(np.transpose(L)), fs)]]\n",
    "\n",
    "H_list = [H]\n",
    "\n",
    "broadband_integrator_object = integ.UncondTimeDepLindInt(L_list, H_list)\n",
    "markov_soln = broadband_integrator_object.integrate(rho0, times)"
   ]
  },
  {
   "cell_type": "code",
   "execution_count": 73,
   "metadata": {},
   "outputs": [
    {
     "data": {
      "text/plain": [
       "<matplotlib.legend.Legend at 0x7fa5f0affa90>"
      ]
     },
     "execution_count": 73,
     "metadata": {},
     "output_type": "execute_result"
    },
    {
     "data": {
      "image/png": "[encoded data removed]",
      "text/plain": [
       "<Figure size 432x576 with 3 Axes>"
      ]
     },
     "metadata": {
      "needs_background": "light"
     },
     "output_type": "display_data"
    }
   ],
   "source": [
    "gs = matplotlib.gridspec.GridSpec(2, 1)\n",
    "fig = plt.figure(figsize=[6, 8])\n",
    "\n",
    "gs = fig.add_gridspec(ncols=2, nrows=2,wspace=0.5)\n",
    "\n",
    "\n",
    "f3_ax0 = fig.add_subplot(gs[0, :-1])\n",
    "f3_ax1 = fig.add_subplot(gs[0, 1])\n",
    "f3_ax2 = fig.add_subplot(gs[1, :])\n",
    "\n",
    "\n",
    "rwp_plot = np.round(r_val_wp,3)\n",
    "rbb_plot = np.round(r_val_bb,3)\n",
    "\n",
    "f3_ax0.plot(times, xi_rect(times,a=0, b=xi_len),label='WP',linestyle='--',color='k')\n",
    "f3_ax0.plot(times, (solns.get_expectations(sigz, vac_rho(n_max)) + 1)/2,label='Z wp',linestyle='--',color='g')\n",
    "f3_ax0.plot(times, (markov_soln.get_expectations(sigz) + 1)/2, label='Z markov',linestyle='-',color='g')\n",
    "f3_ax0.plot(times, (vac_soln.get_expectations(sigz) + 1)/2, label='Z vac',linestyle='-',color='c')\n",
    "f3_ax0.set_yscale('log')\n",
    "f3_ax0.set_xlim(0.0, 9.025)\n",
    "f3_ax0.set_ylim(1e-2, 1.05) \n",
    "f3_ax0.set_ylabel(r'$\\langle Z \\rangle $',rotation=0,labelpad=10) \n",
    "f3_ax0.set_xlabel(r'$\\gamma\\, t $')\n",
    "\n",
    "\n",
    "\n",
    "f3_ax1.plot(times, xi_rect(times,a=0, b=xi_len),label='WP',linestyle='--',color='k')\n",
    "f3_ax1.plot(times, (solns.get_expectations(sigz, vac_rho(n_max)) + 1)/2,label='Z wp',linestyle='--',color='g')\n",
    "f3_ax1.plot(times, (markov_soln.get_expectations(sigz) + 1)/2, label='Z markov',linestyle='-',color='g')\n",
    "f3_ax1.plot(times, (vac_soln.get_expectations(sigz) + 1)/2, label='Z vac',linestyle='-',color='c')\n",
    "f3_ax1.set_yscale('log')\n",
    "f3_ax1.set_xlim(0.2, 0.4)\n",
    "f3_ax1.set_ylim(6.75e-1, 8e-1) \n",
    "f3_ax1.set_xlabel(r'$\\gamma\\, t $')\n",
    "\n",
    "\n",
    "\n",
    "f3_ax2.plot(times, solns.get_purities(vac_rho(n_max)),label='WP r =' + str(rwp_plot),linestyle='--',color='g')\n",
    "f3_ax2.plot(times, markov_soln.get_purities(),label='markov r = ' + str(rbb_plot), linestyle='-',color='g')\n",
    "f3_ax2.plot(times, vac_soln.get_purities(),label='vac',linestyle='-',color='c')\n",
    "#f3_ax2.set_yscale('log')\n",
    "f3_ax2.set_xlim(0.0, 9.025)\n",
    "f3_ax2.set_ylim(0.497, 1.01) \n",
    "f3_ax2.set_xlabel(r'$\\gamma\\, t $')\n",
    "f3_ax2.set_ylabel(r'Purity',labelpad=5)\n",
    "f3_ax2.legend()\n"
   ]
  },
  {
   "cell_type": "code",
   "execution_count": null,
   "metadata": {},
   "outputs": [],
   "source": []
  },
  {
   "cell_type": "code",
   "execution_count": 20,
   "metadata": {},
   "outputs": [],
   "source": [
    "## M and N params\n",
    "##M = - np.exp(2j*mu_val)* np.sinh(r_val_bb) * np.cosh(r_val_bb)\n",
    "##N = np.sinh(r_val_bb)**2\n",
    "\n"
   ]
  },
  {
   "cell_type": "code",
   "execution_count": null,
   "metadata": {},
   "outputs": [],
   "source": []
  }
 ],
 "metadata": {
  "kernelspec": {
   "display_name": "Python 3",
   "language": "python",
   "name": "python3"
  },
  "language_info": {
   "codemirror_mode": {
    "name": "ipython",
    "version": 3
   },
   "file_extension": ".py",
   "mimetype": "text/x-python",
   "name": "python",
   "nbconvert_exporter": "python",
   "pygments_lexer": "ipython3",
   "version": "3.8.2"
  }
 },
 "nbformat": 4,
 "nbformat_minor": 4
}
