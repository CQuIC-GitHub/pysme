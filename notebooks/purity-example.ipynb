{
 "cells": [
  {
   "cell_type": "markdown",
   "metadata": {},
   "source": [
    "# Excitation probability"
   ]
  },
  {
   "cell_type": "markdown",
   "metadata": {},
   "source": [
    "Try and follow Baragiola *et al.* in their conventions:\n",
    "\\begin{align}\n",
    "    \\operatorname{Var}[\\xi_t^2]\n",
    "    &=\n",
    "    \\frac{1}{\\Omega^2}\n",
    "    \\\\\n",
    "    \\operatorname{Var}[\\xi_t]\n",
    "    &=\n",
    "    \\sigma_T^2=\\frac{2}{\\Omega^2}\n",
    "    \\\\\n",
    "    \\operatorname{Var}[\\xi_\\omega^2]\n",
    "    &=\n",
    "    \\Omega^2\n",
    "    \\\\\n",
    "    \\operatorname{Var}[\\xi_\\omega]\n",
    "    &=\n",
    "    \\sigma_\\omega^2=\\frac{\\Omega^2}{2}\n",
    "\\end{align}"
   ]
  },
  {
   "cell_type": "markdown",
   "metadata": {},
   "source": [
    "\\begin{align}\n",
    "    \\xi_{t,\\mathrm{gau}}&=\\sqrt[4]{\\frac{\\Omega^2}{2\\pi}}\\exp\\left(\\frac{\\Omega^2(t-t_a)^2}{4}\\right)\n",
    "\\end{align}"
   ]
  },
  {
   "cell_type": "code",
   "execution_count": 1,
   "metadata": {},
   "outputs": [],
   "source": [
    "from functools import partial\n",
    "import pickle\n",
    "import numpy as np\n",
    "from scipy.integrate import quad\n",
    "\n",
    "from tqdm import tqdm_notebook\n",
    "\n",
    "import pysme.hierarchy as hier\n",
    "import pysme.integrate as integ\n",
    "\n",
    "import matplotlib.pyplot as plt\n",
    "# #from quantum_utilities.qubits import Id, sigm, sigz, zero"
   ]
  },
  {
   "cell_type": "code",
   "execution_count": 2,
   "metadata": {},
   "outputs": [],
   "source": [
    "# Define Lowering operator and Sigma Z\n",
    "\n",
    "Id = np.eye(2, dtype=complex)\n",
    "\n",
    "zero = np.zeros((2,2), dtype=complex)\n",
    "\n",
    "sigz = np.array([[1, 0], [0, -1]], dtype=complex)\n",
    "\n",
    "sigx = np.array([[0, 1], [1, 0]], dtype=complex)\n",
    "\n",
    "sigy = np.array([[0, -1j], [1j, 0]], dtype=complex)\n",
    "\n",
    "sigm = np.array([[0, 0], [1, 0]], dtype=complex)"
   ]
  },
  {
   "cell_type": "code",
   "execution_count": 3,
   "metadata": {},
   "outputs": [],
   "source": [
    "def xi_gau(t, Omega, ta):\n",
    "    return np.power(Omega**2/(2*np.pi), 1/4) * np.exp(-Omega**2*(t - ta)**2/4)"
   ]
  },
  {
   "cell_type": "code",
   "execution_count": 4,
   "metadata": {},
   "outputs": [
    {
     "data": {
      "text/plain": [
       "(0.9973002039367399, 1.1072256503105314e-14)"
      ]
     },
     "execution_count": 4,
     "metadata": {},
     "output_type": "execute_result"
    }
   ],
   "source": [
    "quad(lambda t: xi_gau(t, Omega=0.5, ta=0)**2, -3/0.5, 3/0.5)"
   ]
  },
  {
   "cell_type": "code",
   "execution_count": 5,
   "metadata": {},
   "outputs": [
    {
     "data": {
      "text/plain": [
       "array([0.        , 0.88137359, 1.14621583, 1.3169579 , 1.44363548])"
      ]
     },
     "execution_count": 5,
     "metadata": {},
     "output_type": "execute_result"
    }
   ],
   "source": [
    "rs = np.arcsinh(np.sqrt(np.arange(5)))\n",
    "rs"
   ]
  },
  {
   "cell_type": "code",
   "execution_count": 6,
   "metadata": {},
   "outputs": [
    {
     "data": {
      "text/plain": [
       "array([1.        , 2.41421356, 3.14626437, 3.73205081, 4.23606798])"
      ]
     },
     "execution_count": 6,
     "metadata": {},
     "output_type": "execute_result"
    }
   ],
   "source": [
    "np.exp(rs)"
   ]
  },
  {
   "cell_type": "code",
   "execution_count": 7,
   "metadata": {},
   "outputs": [
    {
     "data": {
      "text/plain": [
       "array([0., 1., 2., 3., 4.])"
      ]
     },
     "execution_count": 7,
     "metadata": {},
     "output_type": "execute_result"
    }
   ],
   "source": [
    "np.sinh(rs)**2"
   ]
  },
  {
   "cell_type": "code",
   "execution_count": 8,
   "metadata": {},
   "outputs": [
    {
     "data": {
      "text/plain": [
       "array([0.125, 0.25 , 0.5  , 1.   , 2.   , 4.   , 8.   ])"
      ]
     },
     "execution_count": 8,
     "metadata": {},
     "output_type": "execute_result"
    }
   ],
   "source": [
    "Omegas = np.power(2, np.linspace(-3, 3, 7))\n",
    "Omegas"
   ]
  },
  {
   "cell_type": "code",
   "execution_count": 9,
   "metadata": {},
   "outputs": [],
   "source": [
    "S = Id\n",
    "L = sigm\n",
    "H = zero"
   ]
  },
  {
   "cell_type": "code",
   "execution_count": 10,
   "metadata": {},
   "outputs": [],
   "source": [
    "rho0 = (Id + sigx)/2"
   ]
  },
  {
   "cell_type": "code",
   "execution_count": 11,
   "metadata": {
    "scrolled": true
   },
   "outputs": [],
   "source": [
    "n_max = 18\n",
    "Omega = 1.21\n",
    "r = 0.5012\n",
    "factory = hier.HierarchyIntegratorFactory(2, n_max)\n",
    "\n",
    "           \n",
    "integrators = factory.make_uncond_integrator(partial(xi_gau, Omega=Omega, ta=0), S, L, H, r, mu=0)\n",
    "\n",
    "\n",
    "\n",
    "\n",
    "times = np.linspace(-3/Omega, 3/Omega +2, 2**10+1)\n",
    "\n",
    "solns = integrators.integrate(rho0, times)\n",
    "\n",
    "\n",
    "\n"
   ]
  },
  {
   "cell_type": "code",
   "execution_count": 12,
   "metadata": {},
   "outputs": [],
   "source": [
    "# Broad band\n",
    "phi = 0 #np.pi/2\n",
    "M = - np.exp(2j*phi)* np.sinh(r) * np.cosh(r)\n",
    "N = np.sinh(r)**2\n",
    "\n",
    "asdf = integ.UncondGaussIntegrator(L, M, N, H)\n"
   ]
  },
  {
   "cell_type": "code",
   "execution_count": 13,
   "metadata": {},
   "outputs": [
    {
     "data": {
      "text/plain": [
       "(1025,)"
      ]
     },
     "execution_count": 13,
     "metadata": {},
     "output_type": "execute_result"
    }
   ],
   "source": [
    "markov_soln = asdf.integrate(rho0, times)\n",
    "markov_soln.get_purities().shape"
   ]
  },
  {
   "cell_type": "code",
   "execution_count": 14,
   "metadata": {},
   "outputs": [],
   "source": [
    "# with open('2019-11-19-bandwidth-me-solns.pickle', 'rb') as f:\n",
    "#     solns = pickle.load(f)"
   ]
  },
  {
   "cell_type": "code",
   "execution_count": 15,
   "metadata": {},
   "outputs": [],
   "source": [
    "def rect(x, a, b):\n",
    "    return np.where(x < a, 0, np.where(x < b, 1, 0))\n",
    "\n",
    "def rho_from_ket(ket):\n",
    "    return np.outer(ket, ket.conj())\n",
    "\n",
    "def vac_rho(n):\n",
    "    ket = np.zeros(n + 1, dtype=np.complex)\n",
    "    ket[0] = 1\n",
    "    return rho_from_ket(ket)"
   ]
  },
  {
   "cell_type": "code",
   "execution_count": 16,
   "metadata": {},
   "outputs": [
    {
     "data": {
      "text/plain": [
       "(1025,)"
      ]
     },
     "execution_count": 16,
     "metadata": {},
     "output_type": "execute_result"
    }
   ],
   "source": [
    "solns.get_expectations(sigz, vac_rho(n_max)).shape\n",
    "solns.get_purities(vac_rho(n_max)).shape\n",
    "\n",
    "#times.shape"
   ]
  },
  {
   "cell_type": "code",
   "execution_count": 147,
   "metadata": {},
   "outputs": [
    {
     "data": {
      "image/png": "[encoded data removed]",
      "text/plain": [
       "<Figure size 432x288 with 1 Axes>"
      ]
     },
     "metadata": {
      "needs_background": "light"
     },
     "output_type": "display_data"
    }
   ],
   "source": [
    "\n",
    "plt.plot(times, (solns.get_expectations(sigz, vac_rho(n_max)) + 1)/2,label='Z wp',linestyle='--',color='g')\n",
    "plt.plot(times, (markov_soln.get_expectations(sigz) + 1)/2,label='Z markov',linestyle='-',color='g')\n",
    "plt.plot(times, (markov_soln.get_expectations(sigx) + 1)/2,label='X markov',linestyle='-',color='c')\n",
    "plt.plot(times, (markov_soln.get_expectations(sigy) + 1)/2,label='Y markov',linestyle='-',color='m')\n",
    "plt.plot(times, solns.get_purities(vac_rho(n_max)),label='P wp' + str(r),linestyle='--',color='b')\n",
    "plt.plot(times, markov_soln.get_purities(),label='P markov' + str(r), linestyle='-',color='b')\n",
    "solns.get_purities(vac_rho(n_max))\n",
    "plt.legend()\n",
    "plt.ylim(-0.05, 1.01)\n",
    "plt.tight_layout()"
   ]
  },
  {
   "cell_type": "code",
   "execution_count": 85,
   "metadata": {},
   "outputs": [],
   "source": [
    "# fig, axs = plt.subplots(nrows=len(Omegas), ncols=len(rs), figsize=(10, 10), sharey=True)\n",
    "# for Omega_idx, ax_row in enumerate(axs):\n",
    "#     Omega = Omegas[Omega_idx]\n",
    "#     times = np.linspace(-3/Omega, 3/Omega, 2**10 + 1)\n",
    "#     for r_idx, ax in enumerate(ax_row):\n",
    "#         ax.fill_between(times, xi_gau(times, Omega, 0)**2, color='k', alpha=0.125)\n",
    "#         ax.plot(times,\n",
    "#                 (solns[20,r_idx,Omega_idx].get_expectations(sigz, vac_rho(20)).flatten() + 1)/2)\n",
    "#     ax_row[0].set_ylim(-0.05, 1.05)\n",
    "# plt.tight_layout()"
   ]
  },
  {
   "cell_type": "code",
   "execution_count": null,
   "metadata": {},
   "outputs": [],
   "source": []
  }
 ],
 "metadata": {
  "kernelspec": {
   "display_name": "Python 3",
   "language": "python",
   "name": "python3"
  },
  "language_info": {
   "codemirror_mode": {
    "name": "ipython",
    "version": 3
   },
   "file_extension": ".py",
   "mimetype": "text/x-python",
   "name": "python",
   "nbconvert_exporter": "python",
   "pygments_lexer": "ipython3",
   "version": "3.8.2"
  }
 },
 "nbformat": 4,
 "nbformat_minor": 4
}
