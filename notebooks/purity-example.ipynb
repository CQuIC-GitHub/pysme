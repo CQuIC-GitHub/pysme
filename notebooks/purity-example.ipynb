{
 "cells": [
  {
   "cell_type": "markdown",
   "metadata": {},
   "source": [
    "# Purity and excitation probability comparison"
   ]
  },
  {
   "cell_type": "markdown",
   "metadata": {},
   "source": [
    "We will use a square wavepacket and compare markovian and wavepacket evolution.\n",
    "\n",
    "Note:\n",
    "\n",
    "3dB of squeezing is $r \\approx 0.31$\n",
    "\n",
    "\n",
    "4.5dB of squeezing is $r \\approx 0.51$\n",
    "\n"
   ]
  },
  {
   "cell_type": "code",
   "execution_count": null,
   "metadata": {},
   "outputs": [],
   "source": []
  },
  {
   "cell_type": "code",
   "execution_count": 1,
   "metadata": {},
   "outputs": [],
   "source": [
    "from functools import partial\n",
    "import pickle\n",
    "import numpy as np\n",
    "from scipy.integrate import quad\n",
    "\n",
    "from tqdm import tqdm_notebook\n",
    "\n",
    "import pysme.hierarchy as hier\n",
    "import pysme.integrate as integ\n",
    "\n",
    "import matplotlib.pyplot as plt\n",
    "import matplotlib\n",
    "# #from quantum_utilities.qubits import Id, sigm, sigz, zero\n",
    "import pickle"
   ]
  },
  {
   "cell_type": "code",
   "execution_count": 2,
   "metadata": {},
   "outputs": [],
   "source": [
    "# Define Lowering operator and Sigma Z\n",
    "\n",
    "Id = np.eye(2, dtype=complex)\n",
    "\n",
    "zero = np.zeros((2,2), dtype=complex)\n",
    "\n",
    "sigz = np.array([[1, 0], [0, -1]], dtype=complex)\n",
    "\n",
    "sigx = np.array([[0, 1], [1, 0]], dtype=complex)\n",
    "\n",
    "sigy = np.array([[0, -1j], [1j, 0]], dtype=complex)\n",
    "\n",
    "sigm = np.array([[0, 0], [1, 0]], dtype=complex)"
   ]
  },
  {
   "cell_type": "code",
   "execution_count": 3,
   "metadata": {},
   "outputs": [],
   "source": [
    "def rect(x, a, b):\n",
    "    return np.where(x < a, 0, np.where(x < b, 1, 0))\n",
    "\n",
    "def xi_rect(t, a, b):\n",
    "    return rect(t, a, b)/np.sqrt(b - a)\n",
    "\n",
    "def xi_gau(t, Omega, ta):\n",
    "    return np.power(Omega**2/(2*np.pi), 1/4) * np.exp(-Omega**2*(t - ta)**2/4)"
   ]
  },
  {
   "cell_type": "markdown",
   "metadata": {},
   "source": [
    "# Match inital decay"
   ]
  },
  {
   "cell_type": "code",
   "execution_count": 4,
   "metadata": {},
   "outputs": [
    {
     "name": "stdout",
     "output_type": "stream",
     "text": [
      "r_val_wp 0.5180816459236602\n"
     ]
    }
   ],
   "source": [
    "# rs = np.arcsinh(np.sqrt(np.arange(5)))\n",
    "# print('rs', rs)\n",
    "# print('exp(rs)', np.exp(rs))\n",
    "# print('sinh(rs)^2', np.sinh(rs)**2)\n",
    "\n",
    "\n",
    "n_max = 22\n",
    "\n",
    "Omega = 0 #1.21\n",
    "\n",
    "# 3dB of squeezing  r \\approx =0.31\n",
    "3 / (20* np.log10(np.e))\n",
    "\n",
    "# 4.5dB of squeezing r \\approx 0.51\n",
    "r = 4.5/ (20* np.log10(np.e))\n",
    "\n",
    "\n",
    "\n",
    "r_val_wp = r \n",
    "\n",
    "print('r_val_wp', r_val_wp)\n",
    "#r_val_bb = 0.2335848289126526\n",
    "\n",
    "mu_val = 0\n",
    "\n",
    "gam = 1\n",
    "\n",
    "xi_len = 4\n",
    "\n",
    "S = Id\n",
    "L = np.sqrt(gam) * sigm\n",
    "H = zero\n",
    "\n",
    "rho0 = (Id + (sigx + sigy)/np.sqrt(2))/2 # np.array([[1, 0], [0, 0]], dtype=complex) # excited state\n",
    "\n",
    "xi = xi_rect\n",
    "\n",
    "\n",
    "times = np.linspace(0, xi_len + 2, num=xi_len*30 + 60)"
   ]
  },
  {
   "cell_type": "code",
   "execution_count": 5,
   "metadata": {},
   "outputs": [
    {
     "name": "stdout",
     "output_type": "stream",
     "text": [
      "M =  (-0.6158923855077195-0j)\n",
      "N =  0.2932990801245072\n"
     ]
    }
   ],
   "source": [
    "## M and N params\n",
    "M_wp = - np.exp(2j*mu_val)* np.sinh(r_val_wp) * np.cosh(r_val_wp)\n",
    "N_wp = np.sinh(r_val_wp)**2\n",
    "\n",
    "print('M = ', M_wp)\n",
    "print('N = ', N_wp)"
   ]
  },
  {
   "cell_type": "markdown",
   "metadata": {},
   "source": [
    "### Wavepacket"
   ]
  },
  {
   "cell_type": "code",
   "execution_count": 6,
   "metadata": {
    "scrolled": true
   },
   "outputs": [],
   "source": [
    "factory = hier.HierarchyIntegratorFactory(2, n_max)\n",
    "           \n",
    "integrators = factory.make_uncond_integrator(partial(xi, a=0, b=xi_len), S, L, H, r=r_val_wp, mu=mu_val)"
   ]
  },
  {
   "cell_type": "code",
   "execution_count": 7,
   "metadata": {},
   "outputs": [],
   "source": [
    "solns = integrators.integrate(rho0, times)"
   ]
  },
  {
   "cell_type": "code",
   "execution_count": 8,
   "metadata": {},
   "outputs": [],
   "source": [
    "def rho_from_ket(ket):\n",
    "    return np.outer(ket, ket.conj())\n",
    "\n",
    "def vac_rho(n):\n",
    "    ket = np.zeros(n + 1, dtype=np.complex)\n",
    "    ket[0] = 1\n",
    "    return rho_from_ket(ket)"
   ]
  },
  {
   "cell_type": "markdown",
   "metadata": {},
   "source": [
    "### Vacuum evolution"
   ]
  },
  {
   "cell_type": "code",
   "execution_count": 9,
   "metadata": {},
   "outputs": [],
   "source": [
    "vac_integrator_object = integ.UncondLindbladIntegrator([L],H)\n",
    "vac_soln = vac_integrator_object.integrate(rho0, times)"
   ]
  },
  {
   "cell_type": "markdown",
   "metadata": {},
   "source": [
    "### Markovian Squeezed evolution\n",
    "\n",
    "here we numerically optimize over the squeeze parameter to match the inital decay of the wavepacket solution"
   ]
  },
  {
   "cell_type": "code",
   "execution_count": 10,
   "metadata": {},
   "outputs": [],
   "source": [
    "# Wavepacket shape\n",
    "# TODO: make wavepacket return to vac soln after x>b: f1-> 1 & f2 -> 0\n",
    "def f1(x, a, b, mu, r):\n",
    "    return np.cosh(r)*np.where(x < a, 0, np.where(x < b, 1, 0))\n",
    "\n",
    "def f2(x, a, b, mu, r):\n",
    "    return np.exp(2j*mu)* np.sinh(r)*np.where(x < a, 0, np.where(x < b, 1, 0))\n"
   ]
  },
  {
   "cell_type": "markdown",
   "metadata": {},
   "source": [
    "find squeezing amount to match the decay curve over the first 1 unit of time of the wavepacket"
   ]
  },
  {
   "cell_type": "code",
   "execution_count": 11,
   "metadata": {},
   "outputs": [
    {
     "name": "stdout",
     "output_type": "stream",
     "text": [
      "the index of t=0.0 is  0\n",
      "the index of t=1.01 is  30\n"
     ]
    }
   ],
   "source": [
    "stz = 0.0\n",
    "stp = 1.01\n",
    "print('the index of t='+str(stz)+' is ', np.argmin((times-stz)**2))\n",
    "print('the index of t='+str(stp)+' is ', np.argmin((times-stp)**2))\n",
    "\n",
    "startz = np.argmin((times-stz)**2)\n",
    "endz = np.argmin((times-stp)**2)\n",
    "tp = times[startz:endz]\n",
    "x_wp = solns.get_expectations(sigx, vac_rho(n_max))\n",
    "y_wp = solns.get_expectations(sigy, vac_rho(n_max))\n",
    "z_wp = solns.get_expectations(sigz, vac_rho(n_max))\n",
    "xwp = x_wp[startz:endz]\n",
    "ywp = y_wp[startz:endz]\n",
    "zwp = z_wp[startz:endz]\n",
    "\n",
    "\n",
    "def func(r_val_bb, *params):\n",
    "    times, L, H, xi_len, mu_val, rho0 , xwp, ywp, zwp, startz, endz = params\n",
    "    fc = partial(f1, a=0, b=xi_len, mu=mu_val, r=r_val_bb)\n",
    "    fs = partial(f2, a=0, b=xi_len, mu=mu_val, r=r_val_bb)\n",
    "    L_list = [[(L, fc), (np.conj(np.transpose(L)), fs)]]\n",
    "    H_list = [H]\n",
    "    broadband_integrator_object = integ.UncondTimeDepLindInt(L_list, H_list)\n",
    "    markov_soln = broadband_integrator_object.integrate(rho0, times)\n",
    "    x_m = markov_soln.get_expectations(sigx)\n",
    "    y_m = markov_soln.get_expectations(sigy)\n",
    "    z_m = (markov_soln.get_expectations(sigz) + 1)/2\n",
    "    xm = x_m[startz:endz]\n",
    "    ym = y_m[startz:endz]\n",
    "    zm = z_m[startz:endz]\n",
    "    return np.sum( (ywp - ym)**2) + np.sum( (xwp - xm)**2)"
   ]
  },
  {
   "cell_type": "code",
   "execution_count": 12,
   "metadata": {},
   "outputs": [
    {
     "name": "stdout",
     "output_type": "stream",
     "text": [
      "     fun: 0.009175521394508614\n",
      "    nfev: 19\n",
      "     nit: 15\n",
      " success: True\n",
      "       x: 0.09570808577932297\n"
     ]
    }
   ],
   "source": [
    "from scipy import optimize\n",
    "paramz = (times, L, H, xi_len, mu_val, rho0, xwp, ywp, zwp, startz, endz)\n",
    "rangez = (0.0001,0.53)\n",
    "\n",
    "soln = optimize.minimize_scalar(func, bracket=None, bounds=rangez, args=paramz)\n",
    "\n",
    "print(soln)\n",
    "\n",
    "r_val_bb = soln.x"
   ]
  },
  {
   "cell_type": "markdown",
   "metadata": {},
   "source": [
    "simulate markovian squeezed evolution with  numercially found optimal amount of squeezing"
   ]
  },
  {
   "cell_type": "code",
   "execution_count": 13,
   "metadata": {},
   "outputs": [],
   "source": [
    "fc = partial(f1, a=0, b=xi_len, mu=mu_val, r=r_val_bb)\n",
    "fs = partial(f2, a=0, b=xi_len, mu=mu_val, r=r_val_bb)\n",
    "L_list = [[(L, fc), (np.conj(np.transpose(L)), fs)]]\n",
    "H_list = [H]\n",
    "broadband_integrator_object = integ.UncondTimeDepLindInt(L_list, H_list)\n",
    "markov_soln = broadband_integrator_object.integrate(rho0, times)\n",
    "x_m = markov_soln.get_expectations(sigx)\n",
    "y_m = markov_soln.get_expectations(sigy)\n",
    "z_m = markov_soln.get_expectations(sigz)\n",
    "xm = x_m[startz:endz]\n",
    "ym = y_m[startz:endz]\n",
    "zm = z_m[startz:endz]"
   ]
  },
  {
   "cell_type": "code",
   "execution_count": 14,
   "metadata": {},
   "outputs": [],
   "source": [
    "ones = 0.7071067811865475*np.ones_like(xm)\n",
    "zeros = np.zeros_like(xm)"
   ]
  },
  {
   "cell_type": "code",
   "execution_count": 15,
   "metadata": {},
   "outputs": [],
   "source": [
    "def xi_rect(t, a, b):\n",
    "    return rect(t, a, b)/np.sqrt(b - a)"
   ]
  },
  {
   "cell_type": "code",
   "execution_count": 16,
   "metadata": {},
   "outputs": [],
   "source": [
    "SMALL_SIZE = 14\n",
    "MEDIUM_SIZE = 18\n",
    "BIGGER_SIZE = 20\n",
    "\n",
    "plt.rc('font', size=SMALL_SIZE)          # controls default text sizes\n",
    "plt.rc('axes', titlesize=SMALL_SIZE)     # fontsize of the axes title\n",
    "plt.rc('axes', labelsize=MEDIUM_SIZE)    # fontsize of the x and y labels\n",
    "plt.rc('xtick', labelsize=SMALL_SIZE)    # fontsize of the tick labels\n",
    "plt.rc('ytick', labelsize=SMALL_SIZE)    # fontsize of the tick labels\n",
    "plt.rc('legend', fontsize=SMALL_SIZE)    # legend fontsize\n",
    "plt.rc('figure', titlesize=BIGGER_SIZE)  # fontsize of the figure title"
   ]
  },
  {
   "cell_type": "code",
   "execution_count": 17,
   "metadata": {},
   "outputs": [
    {
     "name": "stdout",
     "output_type": "stream",
     "text": [
      "0.009188040628679658 (-0.09629361723018783-0j)\n",
      "(0.4128944233984918+0j)\n",
      "(0.6054816578588675+0j)\n"
     ]
    }
   ],
   "source": [
    "save_data = True\n",
    "\n",
    "timez = times[startz:endz]\n",
    "\n",
    "filename = \"short_time_markov_WP_cmp_data.pickle\"\n",
    "\n",
    "M = - np.exp(2j*mu_val)* np.sinh(r_val_bb) * np.cosh(r_val_bb)\n",
    "N = np.sinh(r_val_bb)**2\n",
    "\n",
    "print(N,M)\n",
    "print(N+M+1/2)\n",
    "print(N-M+1/2)\n",
    "\n",
    "data = {'timez': timez,\n",
    "        'times': times,\n",
    "        'r_val_wp': r_val_wp,\n",
    "        'r_val_bb': r_val_bb,\n",
    "        'mu_val':mu_val,\n",
    "        'M_bb': M,\n",
    "        'N_bb': N,\n",
    "        'xm': xm,\n",
    "        'ym': ym,\n",
    "        'Pem': ((markov_soln.get_expectations(sigz) + 1)/2),\n",
    "        'Puritym': (markov_soln.get_purities()),\n",
    "        'vac_x': vac_soln.get_expectations(sigx)[startz:endz],\n",
    "        'vac_y': vac_soln.get_expectations(sigy)[startz:endz],\n",
    "        'Pevac': ((vac_soln.get_expectations(sigz) + 1)/2),\n",
    "        'Purityvac': (vac_soln.get_purities()),\n",
    "        'xwp': xwp,\n",
    "        'ywp': ywp,\n",
    "        'Pewp': ((solns.get_expectations(sigz, vac_rho(n_max)) + 1)/2),\n",
    "        'Puritywp': solns.get_purities(vac_rho(n_max)),\n",
    "        }\n",
    "\n",
    "if save_data:\n",
    "    pickle.dump( data, open( filename, \"wb\" ) )\n",
    "    \n",
    "st_pur_dat = pickle.load(open(filename, \"rb\"))"
   ]
  },
  {
   "cell_type": "code",
   "execution_count": 18,
   "metadata": {},
   "outputs": [
    {
     "data": {
      "image/png": "[encoded data removed]",
      "text/plain": [
       "<Figure size 648x576 with 6 Axes>"
      ]
     },
     "metadata": {
      "needs_background": "light"
     },
     "output_type": "display_data"
    }
   ],
   "source": [
    "\n",
    "fig, axs = plt.subplots(nrows=3,ncols=2, figsize=(9, 8), sharey=False)\n",
    "\n",
    "axs[0,0].semilogy(st_pur_dat['timez'], st_pur_dat['xm'], label='X',linestyle='--',color='r')\n",
    "axs[0,0].semilogy(st_pur_dat['timez'], st_pur_dat['ym'], label='Y',linestyle='--',color='g')\n",
    "axs[0,0].semilogy(st_pur_dat['timez'], st_pur_dat['vac_x'], label='vac',linestyle=':',color='k')\n",
    "#axs[1].set_ylabel(r'$\\langle Y \\rangle$',rotation=0,labelpad=14)\n",
    "axs[0,0].set_ylabel(r'Markovian',labelpad=16)\n",
    "\n",
    "axs[0,0].set_ylim([4e-1,7.2e-1])\n",
    "axs[0,0].legend()\n",
    "axs[0,1].semilogy(st_pur_dat['timez'], st_pur_dat['xwp'], label='X',linestyle='-',color='r')\n",
    "axs[0,1].semilogy(st_pur_dat['timez'], st_pur_dat['ywp'], label='Y',linestyle='-',color='g')\n",
    "axs[0,1].semilogy(st_pur_dat['timez'], st_pur_dat['vac_x'], label='vac',linestyle=':',color='k')\n",
    "axs[0,1].set_ylabel(r'Wave packet',labelpad=16)\n",
    "#axs[0].set_ylabel(r'',rotation=0,labelpad=14)\n",
    "axs[0,1].set_ylim([4e-1,7.2e-1])\n",
    "#axs[0,1].set_title('Wave packet')\n",
    "axs[0,1].legend()\n",
    "\n",
    "\n",
    "\n",
    "axs[1,1].semilogy(st_pur_dat['timez'], st_pur_dat['ym'], label='M',linestyle='--',color='g')\n",
    "axs[1,1].semilogy(st_pur_dat['timez'], st_pur_dat['ywp'], label='WP',linestyle='-',color='g')\n",
    "axs[1,1].semilogy(st_pur_dat['timez'], st_pur_dat['vac_x'], label='vac',linestyle=':',color='k')\n",
    "axs[1,1].set_ylabel(r'$\\langle Y \\rangle$',rotation=0,labelpad=16)\n",
    "axs[1,1].set_ylim([4e-1,7.2e-1])\n",
    "axs[1,1].legend()\n",
    "axs[1,0].semilogy(st_pur_dat['timez'], st_pur_dat['xm'], label='M',linestyle='--',color='r')\n",
    "axs[1,0].semilogy(st_pur_dat['timez'], st_pur_dat['xwp'], label='WP',linestyle='-',color='r')\n",
    "axs[1,0].semilogy(st_pur_dat['timez'], st_pur_dat['vac_x'], label='vac',linestyle=':',color='k')\n",
    "axs[1,0].set_ylabel(r'$\\langle X \\rangle$',rotation=0,labelpad=16)\n",
    "axs[1,0].set_ylim([4e-1,7.2e-1])\n",
    "#axs[0].set_yticks(minor=True)\n",
    "axs[1,0].legend()\n",
    "\n",
    "\n",
    "\n",
    "rwp_plot = np.round(st_pur_dat['r_val_wp'],3)\n",
    "rbb_plot = np.round(st_pur_dat['r_val_bb'],3)\n",
    "\n",
    "#axs[2,0].plot(times, xi_rect(times,a=0, b=xi_len),label=r'$\\xi(t)$',linestyle='--',color='k')\n",
    "axs[2,0].semilogy(st_pur_dat['times'], st_pur_dat['Pewp'],label='WP',linestyle='-',color='b')\n",
    "axs[2,0].semilogy(st_pur_dat['times'], st_pur_dat['Pem'], label='M',linestyle='--',color='b')\n",
    "axs[2,0].semilogy(st_pur_dat['times'], st_pur_dat['Pevac'], label='vac',linestyle=':',color='b')\n",
    "#axs[0].set_yscale('log')\n",
    "axs[2,0].set_xlim(0.0, 4.025)\n",
    "axs[2,0].set_ylim(1e-2, 1.05) \n",
    "axs[2,0].set_ylabel(r'$\\langle P_e \\rangle $',rotation=0,labelpad=18) \n",
    "axs[2,0].set_xlabel(r'$\\Gamma\\, t $')\n",
    "axs[2,0].legend()\n",
    "\n",
    "#axs[2,1].plot(times, solns.get_purities(vac_rho(n_max)),label='WP r =' + str(rwp_plot),linestyle='-',color='c')\n",
    "#axs[2,1].plot(times, markov_soln.get_purities(),label='Markov r = ' + str(rbb_plot), linestyle='--',color='c')\n",
    "axs[2,1].plot(st_pur_dat['times'], st_pur_dat['Puritywp'],label='WP',linestyle='-',color='c')\n",
    "axs[2,1].plot(st_pur_dat['times'], st_pur_dat['Puritym'],label='M', linestyle='--',color='c')\n",
    "axs[2,1].plot(st_pur_dat['times'], st_pur_dat['Purityvac'],label='vac',linestyle=':',color='c')\n",
    "#f3_ax2.set_yscale('log')\n",
    "axs[2,1].set_xlim(0.0, 4.025)\n",
    "axs[2,1].set_ylim(0.85, 1.01) \n",
    "axs[2,1].set_xlabel(r'$\\Gamma\\, t $')\n",
    "axs[2,1].set_ylabel(r'Purity',labelpad=16)\n",
    "axs[2,1].legend()#loc='upper left')\n",
    "\n",
    "\n",
    "plt.tight_layout()\n",
    "\n",
    "name='wp_v_markov_cmp'\n",
    "plt.savefig(name+'.pdf',bbox_inches = 'tight', pad_inches = 0.01)"
   ]
  },
  {
   "cell_type": "code",
   "execution_count": 19,
   "metadata": {},
   "outputs": [
    {
     "name": "stdout",
     "output_type": "stream",
     "text": [
      "0.009188040628679658 (-0.09629361723018783-0j)\n",
      "(0.4128944233984918+0j)\n",
      "(0.6054816578588675+0j)\n"
     ]
    }
   ],
   "source": [
    "#M and N params\n",
    "M = - np.exp(2j*mu_val)* np.sinh(r_val_bb) * np.cosh(r_val_bb)\n",
    "N = np.sinh(r_val_bb)**2\n",
    "\n",
    "print(N,M)\n",
    "print(N+M+1/2)\n",
    "print(N-M+1/2)"
   ]
  },
  {
   "cell_type": "code",
   "execution_count": 20,
   "metadata": {},
   "outputs": [
    {
     "data": {
      "text/plain": [
       "1.0183760812573592"
      ]
     },
     "execution_count": 20,
     "metadata": {},
     "output_type": "execute_result"
    }
   ],
   "source": [
    "# expected modification of decay rate relative to vac\n",
    "2*N+1\n"
   ]
  },
  {
   "cell_type": "code",
   "execution_count": 21,
   "metadata": {},
   "outputs": [
    {
     "data": {
      "text/plain": [
       "0.9087292483446231"
      ]
     },
     "execution_count": 21,
     "metadata": {},
     "output_type": "execute_result"
    }
   ],
   "source": [
    "np.exp(r_val_bb)\n",
    "np.exp(-r_val_bb)\n"
   ]
  },
  {
   "cell_type": "markdown",
   "metadata": {},
   "source": [
    "# Match steady state exitation probablity"
   ]
  },
  {
   "cell_type": "code",
   "execution_count": 22,
   "metadata": {},
   "outputs": [],
   "source": [
    "# rs = np.arcsinh(np.sqrt(np.arange(5)))\n",
    "# print('rs', rs)\n",
    "# print('exp(rs)', np.exp(rs))\n",
    "# print('sinh(rs)^2', np.sinh(rs)**2)\n",
    "\n",
    "\n",
    "n_max = 22\n",
    "\n",
    "Omega = 0 #1.21\n",
    "\n",
    "# 3dB of squeezing  r \\approx =0.31\n",
    "3 / (20* np.log10(np.e))\n",
    "\n",
    "# 4.5dB of squeezing r \\approx 0.51\n",
    "r = 4.5/ (20* np.log10(np.e))\n",
    "\n",
    "\n",
    "\n",
    "r_val_wp = r \n",
    "\n",
    "#r_val_bb = 0.2335848289126526\n",
    "\n",
    "mu_val = 0\n",
    "\n",
    "gam = 1\n",
    "\n",
    "xi_len = 9\n",
    "\n",
    "\n",
    "S = Id\n",
    "L = np.sqrt(gam) * sigm\n",
    "H = zero\n",
    "\n",
    "\n",
    "rho0 = (Id + (sigx + sigy)/np.sqrt(2))/2\n",
    "#np.array([[1, 0], [0, 0]], dtype=complex) # excited state\n",
    "#\n",
    "\n",
    "xi = xi_rect\n",
    "\n",
    "\n",
    "\n",
    "times = np.linspace(0, xi_len + 2, num=xi_len*30 + 60)\n",
    "\n"
   ]
  },
  {
   "cell_type": "code",
   "execution_count": 23,
   "metadata": {},
   "outputs": [
    {
     "name": "stdout",
     "output_type": "stream",
     "text": [
      "(0.7071067811865475+0j)\n",
      "(0.7071067811865475+0j)\n",
      "0j\n"
     ]
    }
   ],
   "source": [
    "print(np.trace(rho0@sigx))\n",
    "print(np.trace(rho0@sigy))\n",
    "print(np.trace(rho0@sigz))"
   ]
  },
  {
   "cell_type": "code",
   "execution_count": 24,
   "metadata": {},
   "outputs": [],
   "source": [
    "# wavepacket \n",
    "\n",
    "factory = hier.HierarchyIntegratorFactory(2, n_max)\n",
    "           \n",
    "integrators = factory.make_uncond_integrator(partial(xi, a=0, b=xi_len), S, L, H, r=r_val_wp, mu=mu_val)\n",
    "\n",
    "solns = integrators.integrate(rho0, times)"
   ]
  },
  {
   "cell_type": "code",
   "execution_count": 25,
   "metadata": {},
   "outputs": [],
   "source": [
    "# vaccum\n",
    "vac_integrator_object = integ.UncondLindbladIntegrator([L],H)\n",
    "vac_soln = vac_integrator_object.integrate(rho0, times)"
   ]
  },
  {
   "cell_type": "code",
   "execution_count": null,
   "metadata": {},
   "outputs": [],
   "source": []
  },
  {
   "cell_type": "code",
   "execution_count": 26,
   "metadata": {},
   "outputs": [
    {
     "name": "stdout",
     "output_type": "stream",
     "text": [
      "the index of t=5.0 is  150\n",
      "the index of t=9.0 is  269\n"
     ]
    }
   ],
   "source": [
    "stz = 5.0\n",
    "stp = 9.0\n",
    "print('the index of t='+str(stz)+' is ', np.argmin((times-stz)**2))\n",
    "print('the index of t='+str(stp)+' is ', np.argmin((times-stp)**2))\n",
    "\n",
    "startz = np.argmin((times-stz)**2)\n",
    "endz = np.argmin((times-stp)**2)\n",
    "tp = times[startz:endz]\n",
    "x_wp = solns.get_expectations(sigx, vac_rho(n_max))\n",
    "y_wp = solns.get_expectations(sigy, vac_rho(n_max))\n",
    "z_wp = solns.get_expectations(sigz, vac_rho(n_max))\n",
    "xwp = x_wp[startz:endz]\n",
    "ywp = y_wp[startz:endz]\n",
    "zwp = (z_wp[startz:endz]+1)/2\n",
    "\n",
    "\n",
    "def func(r_val_bb, *params):\n",
    "    times, L, H, xi_len, mu_val, rho0 , xwp, ywp, zwp, startz, endz = params\n",
    "    fc = partial(f1, a=0, b=xi_len, mu=mu_val, r=r_val_bb)\n",
    "    fs = partial(f2, a=0, b=xi_len, mu=mu_val, r=r_val_bb)\n",
    "    L_list = [[(L, fc), (np.conj(np.transpose(L)), fs)]]\n",
    "    H_list = [H]\n",
    "    broadband_integrator_object = integ.UncondTimeDepLindInt(L_list, H_list)\n",
    "    markov_soln = broadband_integrator_object.integrate(rho0, times)\n",
    "    x_m = markov_soln.get_expectations(sigx)\n",
    "    y_m = markov_soln.get_expectations(sigy)\n",
    "    z_m = (markov_soln.get_expectations(sigz) + 1)/2\n",
    "    xm = x_m[startz:endz]\n",
    "    ym = y_m[startz:endz]\n",
    "    zm = z_m[startz:endz]\n",
    "    return np.sum( (zwp - zm)**2)"
   ]
  },
  {
   "cell_type": "code",
   "execution_count": 27,
   "metadata": {},
   "outputs": [
    {
     "name": "stdout",
     "output_type": "stream",
     "text": [
      "     fun: 0.0027187948894989307\n",
      "    nfev: 18\n",
      "     nit: 14\n",
      " success: True\n",
      "       x: 0.21411470432227903\n"
     ]
    }
   ],
   "source": [
    "from scipy import optimize\n",
    "paramz = (times, L, H, xi_len, mu_val, rho0, xwp, ywp, zwp, startz, endz)\n",
    "rangez = (0.0001,0.53)\n",
    "\n",
    "soln = optimize.minimize_scalar(func, bracket=None, bounds=rangez, args=paramz)\n",
    "\n",
    "print(soln)\n",
    "\n",
    "r_val_bb = soln.x"
   ]
  },
  {
   "cell_type": "code",
   "execution_count": 28,
   "metadata": {},
   "outputs": [],
   "source": [
    "fc = partial(f1, a=0, b=xi_len, mu=mu_val, r=r_val_bb)\n",
    "fs = partial(f2, a=0, b=xi_len, mu=mu_val, r=r_val_bb)\n",
    "\n",
    "L_list = [[(L, fc), (np.conj(np.transpose(L)), fs)]]\n",
    "\n",
    "H_list = [H]\n",
    "\n",
    "broadband_integrator_object = integ.UncondTimeDepLindInt(L_list, H_list)\n",
    "markov_soln = broadband_integrator_object.integrate(rho0, times)"
   ]
  },
  {
   "cell_type": "code",
   "execution_count": 29,
   "metadata": {},
   "outputs": [],
   "source": [
    "x_m = markov_soln.get_expectations(sigx)\n",
    "y_m = markov_soln.get_expectations(sigy)\n",
    "z_m = (markov_soln.get_expectations(sigz) + 1)/2"
   ]
  },
  {
   "cell_type": "code",
   "execution_count": null,
   "metadata": {},
   "outputs": [],
   "source": []
  },
  {
   "cell_type": "code",
   "execution_count": 30,
   "metadata": {},
   "outputs": [
    {
     "name": "stdout",
     "output_type": "stream",
     "text": [
      "0.046549994416735054 (-0.22071904402867715-0j)\n",
      "(0.32583095038805787+0j)\n",
      "(0.7672690384454122+0j)\n"
     ]
    }
   ],
   "source": [
    "save_data = True\n",
    "\n",
    "\n",
    "\n",
    "filename = \"long_time_markov_WP_cmp_data.pickle\"\n",
    "\n",
    "M = - np.exp(2j*mu_val)* np.sinh(r_val_bb) * np.cosh(r_val_bb)\n",
    "N = np.sinh(r_val_bb)**2\n",
    "\n",
    "print(N,M)\n",
    "print(N+M+1/2)\n",
    "print(N-M+1/2)\n",
    "\n",
    "data = {'times': times,\n",
    "        'r_val_wp': r_val_wp,\n",
    "        'r_val_bb': r_val_bb,\n",
    "        'mu_val':mu_val,\n",
    "        'M_bb': M,\n",
    "        'N_bb': N,\n",
    "        'xm': markov_soln.get_expectations(sigx),\n",
    "        'ym': markov_soln.get_expectations(sigy),\n",
    "        'Pem': ((markov_soln.get_expectations(sigz) + 1)/2),\n",
    "        'Puritym': (markov_soln.get_purities()),\n",
    "        'vac_x': vac_soln.get_expectations(sigx),\n",
    "        'vac_y': vac_soln.get_expectations(sigy),\n",
    "        'Pevac': ((vac_soln.get_expectations(sigz) + 1)/2),\n",
    "        'Purityvac': (vac_soln.get_purities()),\n",
    "        'xwp': solns.get_expectations(sigx, vac_rho(n_max)),\n",
    "        'ywp': solns.get_expectations(sigy, vac_rho(n_max)),\n",
    "        'Pewp': ((solns.get_expectations(sigz, vac_rho(n_max)) + 1)/2),\n",
    "        'Puritywp': solns.get_purities(vac_rho(n_max)),\n",
    "        }\n",
    "\n",
    "if save_data:\n",
    "    pickle.dump( data, open( filename, \"wb\" ) )\n",
    "    \n",
    "lt_pur_dat = pickle.load(open(filename, \"rb\"))"
   ]
  },
  {
   "cell_type": "code",
   "execution_count": 31,
   "metadata": {},
   "outputs": [
    {
     "data": {
      "text/plain": [
       "330"
      ]
     },
     "execution_count": 31,
     "metadata": {},
     "output_type": "execute_result"
    }
   ],
   "source": [
    "len(lt_pur_dat['xm'])"
   ]
  },
  {
   "cell_type": "code",
   "execution_count": 32,
   "metadata": {},
   "outputs": [
    {
     "data": {
      "image/png": "[encoded data removed]",
      "text/plain": [
       "<Figure size 648x576 with 6 Axes>"
      ]
     },
     "metadata": {
      "needs_background": "light"
     },
     "output_type": "display_data"
    }
   ],
   "source": [
    "\n",
    "fig, axs = plt.subplots(nrows=3,ncols=2, figsize=(9, 8), sharey=False)\n",
    "\n",
    "axs[0,0].semilogy(lt_pur_dat['times'], lt_pur_dat['xm'], label='X',linestyle='--',color='r')\n",
    "axs[0,0].semilogy(lt_pur_dat['times'], lt_pur_dat['ym'], label='Y',linestyle='--',color='g')\n",
    "axs[0,0].semilogy(lt_pur_dat['times'], lt_pur_dat['vac_x'], label='vac',linestyle=':',color='k')\n",
    "#axs[1].set_ylabel(r'$\\langle Y \\rangle$',rotation=0,labelpad=14)\n",
    "axs[0,0].set_ylabel(r'Markovian',labelpad=16)\n",
    "axs[0,0].set_xlim([0,9])\n",
    "#axs[0,0].set_ylim([4e-1,7.2e-1])\n",
    "axs[0,0].legend()\n",
    "axs[0,1].semilogy(lt_pur_dat['times'], lt_pur_dat['xwp'], label='X',linestyle='-',color='r')\n",
    "axs[0,1].semilogy(lt_pur_dat['times'], lt_pur_dat['ywp'], label='Y',linestyle='-',color='g')\n",
    "axs[0,1].semilogy(lt_pur_dat['times'], lt_pur_dat['vac_x'], label='vac',linestyle=':',color='k')\n",
    "axs[0,1].set_ylabel(r'Wave packet',labelpad=16)\n",
    "axs[0,1].set_xlim([0,9])\n",
    "#axs[0].set_ylabel(r'',rotation=0,labelpad=14)\n",
    "#axs[0,1].set_ylim([4e-1,7.2e-1])\n",
    "#axs[0,1].set_title('Wave packet')\n",
    "axs[0,1].legend()\n",
    "\n",
    "\n",
    "\n",
    "axs[1,1].semilogy(lt_pur_dat['times'], lt_pur_dat['ym'], label='M',linestyle='--',color='g')\n",
    "axs[1,1].semilogy(lt_pur_dat['times'], lt_pur_dat['ywp'], label='WP',linestyle='-',color='g')\n",
    "axs[1,1].semilogy(lt_pur_dat['times'], lt_pur_dat['vac_x'], label='vac',linestyle=':',color='k')\n",
    "axs[1,1].set_ylabel(r'$\\langle Y \\rangle$',rotation=0,labelpad=16)\n",
    "#axs[1,1].set_ylim([4e-1,7.2e-1])\n",
    "axs[1,1].set_xlim([0,9])\n",
    "axs[1,1].legend()\n",
    "axs[1,0].semilogy(lt_pur_dat['times'], lt_pur_dat['xm'], label='M',linestyle='--',color='r')\n",
    "axs[1,0].semilogy(lt_pur_dat['times'], lt_pur_dat['xwp'], label='WP',linestyle='-',color='r')\n",
    "axs[1,0].semilogy(lt_pur_dat['times'], lt_pur_dat['vac_x'], label='vac',linestyle=':',color='k')\n",
    "axs[1,0].set_ylabel(r'$\\langle X \\rangle$',rotation=0,labelpad=16)\n",
    "axs[1,0].set_xlim([0,9])\n",
    "#axs[1,0].set_ylim([4e-1,7.2e-1])\n",
    "#axs[0].set_yticks(minor=True)\n",
    "axs[1,0].legend()\n",
    "\n",
    "\n",
    "\n",
    "rwp_plot = np.round(lt_pur_dat['r_val_wp'],3)\n",
    "rbb_plot = np.round(lt_pur_dat['r_val_bb'],3)\n",
    "\n",
    "#axs[2,0].plot(times, xi_rect(times,a=0, b=xi_len),label=r'$\\xi(t)$',linestyle='--',color='k')\n",
    "axs[2,0].semilogy(lt_pur_dat['times'], lt_pur_dat['Pewp'],label='WP',linestyle='-',color='b')\n",
    "axs[2,0].semilogy(lt_pur_dat['times'], lt_pur_dat['Pem'], label='M',linestyle='--',color='b')\n",
    "axs[2,0].semilogy(lt_pur_dat['times'], lt_pur_dat['Pevac'], label='vac',linestyle=':',color='b')\n",
    "#axs[0].set_yscale('log')\n",
    "axs[2,0].set_xlim(0.0, 9)\n",
    "axs[2,0].set_ylim(1e-2, 1.05) \n",
    "axs[2,0].set_ylabel(r'$\\langle P_e \\rangle $',rotation=0,labelpad=18) \n",
    "axs[2,0].set_xlabel(r'$\\Gamma\\, t $')\n",
    "axs[2,0].legend()\n",
    "\n",
    "#axs[2,1].plot(times, solns.get_purities(vac_rho(n_max)),label='WP r =' + str(rwp_plot),linestyle='-',color='c')\n",
    "#axs[2,1].plot(times, markov_soln.get_purities(),label='Markov r = ' + str(rbb_plot), linestyle='--',color='c')\n",
    "axs[2,1].plot(lt_pur_dat['times'], lt_pur_dat['Puritywp'],label='WP',linestyle='-',color='c')\n",
    "axs[2,1].plot(lt_pur_dat['times'], lt_pur_dat['Puritym'],label='M', linestyle='--',color='c')\n",
    "axs[2,1].plot(lt_pur_dat['times'], lt_pur_dat['Purityvac'],label='vac',linestyle=':',color='c')\n",
    "#f3_ax2.set_yscale('log')\n",
    "axs[2,1].set_xlim(0.0, 9)\n",
    "axs[2,1].set_ylim(0.86, 1.01) \n",
    "axs[2,1].set_xlabel(r'$\\Gamma\\, t $')\n",
    "axs[2,1].set_ylabel(r'Purity',labelpad=16)\n",
    "axs[2,1].legend(loc='upper right')\n",
    "\n",
    "\n",
    "plt.tight_layout()\n",
    "\n",
    "name='wp_v_markov_cmp_exitation'\n",
    "plt.savefig(name+'.pdf',bbox_inches = 'tight', pad_inches = 0.01)"
   ]
  },
  {
   "cell_type": "code",
   "execution_count": null,
   "metadata": {},
   "outputs": [],
   "source": []
  },
  {
   "cell_type": "code",
   "execution_count": 160,
   "metadata": {},
   "outputs": [
    {
     "data": {
      "text/plain": [
       "0.21411470432227903"
      ]
     },
     "execution_count": 160,
     "metadata": {},
     "output_type": "execute_result"
    }
   ],
   "source": [
    "r_val_bb"
   ]
  }
 ],
 "metadata": {
  "kernelspec": {
   "display_name": "Python 3",
   "language": "python",
   "name": "python3"
  },
  "language_info": {
   "codemirror_mode": {
    "name": "ipython",
    "version": 3
   },
   "file_extension": ".py",
   "mimetype": "text/x-python",
   "name": "python",
   "nbconvert_exporter": "python",
   "pygments_lexer": "ipython3",
   "version": "3.8.2"
  }
 },
 "nbformat": 4,
 "nbformat_minor": 4
}
